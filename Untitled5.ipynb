{
  "nbformat": 4,
  "nbformat_minor": 0,
  "metadata": {
    "colab": {
      "name": "Untitled5.ipynb",
      "version": "0.3.2",
      "provenance": [],
      "collapsed_sections": [],
      "include_colab_link": true
    },
    "kernelspec": {
      "name": "python3",
      "display_name": "Python 3"
    },
    "accelerator": "TPU"
  },
  "cells": [
    {
      "cell_type": "markdown",
      "metadata": {
        "id": "view-in-github",
        "colab_type": "text"
      },
      "source": [
        "<a href=\"https://colab.research.google.com/github/harsh199910/bank_customer_future_prediction_system-machine-learning/blob/master/Untitled5.ipynb\" target=\"_parent\"><img src=\"https://colab.research.google.com/assets/colab-badge.svg\" alt=\"Open In Colab\"/></a>"
      ]
    },
    {
      "metadata": {
        "id": "n5iByPQ_I8I8",
        "colab_type": "code",
        "colab": {}
      },
      "cell_type": "code",
      "source": [
        "import numpy as np\n",
        "import matplotlib.pyplot as plt\n",
        "import pandas as pd"
      ],
      "execution_count": 0,
      "outputs": []
    },
    {
      "metadata": {
        "id": "EMk-KOAtJN60",
        "colab_type": "code",
        "outputId": "7cdbeeef-33cd-4e15-d603-a27bd74ae6ec",
        "colab": {
          "base_uri": "https://localhost:8080/",
          "height": 215
        }
      },
      "cell_type": "code",
      "source": [
        "\n",
        "bank_dataset = pd.read_csv(\"bank.csv\")\n",
        "bank_dataset.head()"
      ],
      "execution_count": 18,
      "outputs": [
        {
          "output_type": "execute_result",
          "data": {
            "text/html": [
              "<div>\n",
              "<style scoped>\n",
              "    .dataframe tbody tr th:only-of-type {\n",
              "        vertical-align: middle;\n",
              "    }\n",
              "\n",
              "    .dataframe tbody tr th {\n",
              "        vertical-align: top;\n",
              "    }\n",
              "\n",
              "    .dataframe thead th {\n",
              "        text-align: right;\n",
              "    }\n",
              "</style>\n",
              "<table border=\"1\" class=\"dataframe\">\n",
              "  <thead>\n",
              "    <tr style=\"text-align: right;\">\n",
              "      <th></th>\n",
              "      <th>RowNumber</th>\n",
              "      <th>CustomerId</th>\n",
              "      <th>Surname</th>\n",
              "      <th>CreditScore</th>\n",
              "      <th>Geography</th>\n",
              "      <th>Gender</th>\n",
              "      <th>Age</th>\n",
              "      <th>Tenure</th>\n",
              "      <th>Balance</th>\n",
              "      <th>NumOfProducts</th>\n",
              "      <th>HasCrCard</th>\n",
              "      <th>IsActiveMember</th>\n",
              "      <th>EstimatedSalary</th>\n",
              "      <th>Exited</th>\n",
              "    </tr>\n",
              "  </thead>\n",
              "  <tbody>\n",
              "    <tr>\n",
              "      <th>0</th>\n",
              "      <td>1</td>\n",
              "      <td>15634602</td>\n",
              "      <td>Hargrave</td>\n",
              "      <td>619</td>\n",
              "      <td>France</td>\n",
              "      <td>Female</td>\n",
              "      <td>42</td>\n",
              "      <td>2</td>\n",
              "      <td>0.00</td>\n",
              "      <td>1</td>\n",
              "      <td>1</td>\n",
              "      <td>1</td>\n",
              "      <td>101348.88</td>\n",
              "      <td>1</td>\n",
              "    </tr>\n",
              "    <tr>\n",
              "      <th>1</th>\n",
              "      <td>2</td>\n",
              "      <td>15647311</td>\n",
              "      <td>Hill</td>\n",
              "      <td>608</td>\n",
              "      <td>Spain</td>\n",
              "      <td>Female</td>\n",
              "      <td>41</td>\n",
              "      <td>1</td>\n",
              "      <td>83807.86</td>\n",
              "      <td>1</td>\n",
              "      <td>0</td>\n",
              "      <td>1</td>\n",
              "      <td>112542.58</td>\n",
              "      <td>0</td>\n",
              "    </tr>\n",
              "    <tr>\n",
              "      <th>2</th>\n",
              "      <td>3</td>\n",
              "      <td>15619304</td>\n",
              "      <td>Onio</td>\n",
              "      <td>502</td>\n",
              "      <td>France</td>\n",
              "      <td>Female</td>\n",
              "      <td>42</td>\n",
              "      <td>8</td>\n",
              "      <td>159660.80</td>\n",
              "      <td>3</td>\n",
              "      <td>1</td>\n",
              "      <td>0</td>\n",
              "      <td>113931.57</td>\n",
              "      <td>1</td>\n",
              "    </tr>\n",
              "    <tr>\n",
              "      <th>3</th>\n",
              "      <td>4</td>\n",
              "      <td>15701354</td>\n",
              "      <td>Boni</td>\n",
              "      <td>699</td>\n",
              "      <td>France</td>\n",
              "      <td>Female</td>\n",
              "      <td>39</td>\n",
              "      <td>1</td>\n",
              "      <td>0.00</td>\n",
              "      <td>2</td>\n",
              "      <td>0</td>\n",
              "      <td>0</td>\n",
              "      <td>93826.63</td>\n",
              "      <td>0</td>\n",
              "    </tr>\n",
              "    <tr>\n",
              "      <th>4</th>\n",
              "      <td>5</td>\n",
              "      <td>15737888</td>\n",
              "      <td>Mitchell</td>\n",
              "      <td>850</td>\n",
              "      <td>Spain</td>\n",
              "      <td>Female</td>\n",
              "      <td>43</td>\n",
              "      <td>2</td>\n",
              "      <td>125510.82</td>\n",
              "      <td>1</td>\n",
              "      <td>1</td>\n",
              "      <td>1</td>\n",
              "      <td>79084.10</td>\n",
              "      <td>0</td>\n",
              "    </tr>\n",
              "  </tbody>\n",
              "</table>\n",
              "</div>"
            ],
            "text/plain": [
              "   RowNumber  CustomerId   Surname  CreditScore Geography  Gender  Age  \\\n",
              "0          1    15634602  Hargrave          619    France  Female   42   \n",
              "1          2    15647311      Hill          608     Spain  Female   41   \n",
              "2          3    15619304      Onio          502    France  Female   42   \n",
              "3          4    15701354      Boni          699    France  Female   39   \n",
              "4          5    15737888  Mitchell          850     Spain  Female   43   \n",
              "\n",
              "   Tenure    Balance  NumOfProducts  HasCrCard  IsActiveMember  \\\n",
              "0       2       0.00              1          1               1   \n",
              "1       1   83807.86              1          0               1   \n",
              "2       8  159660.80              3          1               0   \n",
              "3       1       0.00              2          0               0   \n",
              "4       2  125510.82              1          1               1   \n",
              "\n",
              "   EstimatedSalary  Exited  \n",
              "0        101348.88       1  \n",
              "1        112542.58       0  \n",
              "2        113931.57       1  \n",
              "3         93826.63       0  \n",
              "4         79084.10       0  "
            ]
          },
          "metadata": {
            "tags": []
          },
          "execution_count": 18
        }
      ]
    },
    {
      "metadata": {
        "id": "vKVELGca__il",
        "colab_type": "code",
        "colab": {}
      },
      "cell_type": "code",
      "source": [
        "x=bank_dataset.iloc[:, 3:13].values\n",
        "y=bank_dataset.iloc[:, 13].values\n"
      ],
      "execution_count": 0,
      "outputs": []
    },
    {
      "metadata": {
        "id": "jHgVLeO1Eru7",
        "colab_type": "code",
        "outputId": "8cd14e8f-1c5b-4237-f20a-17bd710b6e86",
        "colab": {
          "base_uri": "https://localhost:8080/",
          "height": 142
        }
      },
      "cell_type": "code",
      "source": [
        "from sklearn.preprocessing import LabelEncoder, OneHotEncoder\n",
        "labelencoder_x_1 = LabelEncoder()\n",
        "x[:, 1] = labelencoder_x_1.fit_transform(x[:, 1])\n",
        "labelencoder_x_2 = LabelEncoder()\n",
        "x[:, 2] = labelencoder_x_2.fit_transform(x[:, 2])\n",
        "onehotencoder = OneHotEncoder(categorical_features = [1])\n",
        "x = onehotencoder.fit_transform(x).toarray()\n",
        "x = x[:, 1:]\n"
      ],
      "execution_count": 20,
      "outputs": [
        {
          "output_type": "stream",
          "text": [
            "/usr/local/lib/python3.6/dist-packages/sklearn/preprocessing/_encoders.py:368: FutureWarning: The handling of integer data will change in version 0.22. Currently, the categories are determined based on the range [0, max(values)], while in the future they will be determined based on the unique values.\n",
            "If you want the future behaviour and silence this warning, you can specify \"categories='auto'\".\n",
            "In case you used a LabelEncoder before this OneHotEncoder to convert the categories to integers, then you can now use the OneHotEncoder directly.\n",
            "  warnings.warn(msg, FutureWarning)\n",
            "/usr/local/lib/python3.6/dist-packages/sklearn/preprocessing/_encoders.py:390: DeprecationWarning: The 'categorical_features' keyword is deprecated in version 0.20 and will be removed in 0.22. You can use the ColumnTransformer instead.\n",
            "  \"use the ColumnTransformer instead.\", DeprecationWarning)\n"
          ],
          "name": "stderr"
        }
      ]
    },
    {
      "metadata": {
        "id": "MAkvQYpfIRhK",
        "colab_type": "code",
        "colab": {}
      },
      "cell_type": "code",
      "source": [
        "from sklearn.model_selection import train_test_split\n",
        "x_train, x_test, y_train, y_test = train_test_split(x, y, test_size=0.2, random_state=0)\n",
        "\n",
        "from sklearn.preprocessing import StandardScaler\n",
        "sc = StandardScaler()\n",
        "x_train = sc.fit_transform(x_train)\n",
        "x_test = sc.fit_transform(x_test)\n"
      ],
      "execution_count": 0,
      "outputs": []
    },
    {
      "metadata": {
        "id": "B3oaonqMLhRh",
        "colab_type": "code",
        "colab": {}
      },
      "cell_type": "code",
      "source": [
        "import keras\n",
        "from keras.models import Sequential\n",
        "from keras.layers import Dense\n",
        "from keras.layers import Dropout"
      ],
      "execution_count": 0,
      "outputs": []
    },
    {
      "metadata": {
        "id": "Sc1L-2cMKLOw",
        "colab_type": "code",
        "colab": {}
      },
      "cell_type": "code",
      "source": [
        "classifier = Sequential()\n",
        "classifier.add(Dense(units = 6, kernel_initializer = 'uniform', activation = 'relu', input_dim = 11))\n",
        "classifier.ass(Dropout(p = 0.1))"
      ],
      "execution_count": 0,
      "outputs": []
    },
    {
      "metadata": {
        "id": "_ZQH9xlPMKY6",
        "colab_type": "code",
        "colab": {}
      },
      "cell_type": "code",
      "source": [
        "classifier.add(Dense(units = 6, kernel_initializer = 'uniform', activation = 'relu'))\n",
        "classifier.ass(Dropout(p = 0.1))"
      ],
      "execution_count": 0,
      "outputs": []
    },
    {
      "metadata": {
        "id": "XYV_9K64MXRo",
        "colab_type": "code",
        "colab": {}
      },
      "cell_type": "code",
      "source": [
        "classifier.add(Dense(units = 1, kernel_initializer = 'uniform', activation = 'sigmoid'))"
      ],
      "execution_count": 0,
      "outputs": []
    },
    {
      "metadata": {
        "id": "j3yZDKCKM1Dl",
        "colab_type": "code",
        "colab": {}
      },
      "cell_type": "code",
      "source": [
        "classifier.compile(optimizer = 'adam', loss ='binary_crossentropy', metrics = ['accuracy'])"
      ],
      "execution_count": 0,
      "outputs": []
    },
    {
      "metadata": {
        "id": "mwYbYbfoNnt1",
        "colab_type": "code",
        "outputId": "e695c4b7-f0ae-42e0-b6bd-f16a414b5c9a",
        "colab": {
          "base_uri": "https://localhost:8080/",
          "height": 1794
        }
      },
      "cell_type": "code",
      "source": [
        "classifier.fit(x_train, y_train, batch_size = 10, epochs = 50)"
      ],
      "execution_count": 27,
      "outputs": [
        {
          "output_type": "stream",
          "text": [
            "Epoch 1/50\n",
            "8000/8000 [==============================] - 1s 165us/step - loss: 0.4781 - acc: 0.7960\n",
            "Epoch 2/50\n",
            "8000/8000 [==============================] - 1s 106us/step - loss: 0.4258 - acc: 0.7960\n",
            "Epoch 3/50\n",
            "8000/8000 [==============================] - 1s 97us/step - loss: 0.4196 - acc: 0.8107\n",
            "Epoch 4/50\n",
            "8000/8000 [==============================] - 1s 97us/step - loss: 0.4167 - acc: 0.8261\n",
            "Epoch 5/50\n",
            "8000/8000 [==============================] - 1s 94us/step - loss: 0.4146 - acc: 0.8295\n",
            "Epoch 6/50\n",
            "8000/8000 [==============================] - 1s 100us/step - loss: 0.4132 - acc: 0.8324\n",
            "Epoch 7/50\n",
            "8000/8000 [==============================] - 1s 96us/step - loss: 0.4119 - acc: 0.8321\n",
            "Epoch 8/50\n",
            "8000/8000 [==============================] - 1s 96us/step - loss: 0.4096 - acc: 0.8341\n",
            "Epoch 9/50\n",
            "8000/8000 [==============================] - 1s 97us/step - loss: 0.4093 - acc: 0.8335\n",
            "Epoch 10/50\n",
            "8000/8000 [==============================] - 1s 104us/step - loss: 0.4086 - acc: 0.8341\n",
            "Epoch 11/50\n",
            "8000/8000 [==============================] - 1s 94us/step - loss: 0.4078 - acc: 0.8327\n",
            "Epoch 12/50\n",
            "8000/8000 [==============================] - 1s 100us/step - loss: 0.4072 - acc: 0.8341\n",
            "Epoch 13/50\n",
            "8000/8000 [==============================] - 1s 96us/step - loss: 0.4067 - acc: 0.8320\n",
            "Epoch 14/50\n",
            "8000/8000 [==============================] - 1s 97us/step - loss: 0.4062 - acc: 0.8344\n",
            "Epoch 15/50\n",
            "8000/8000 [==============================] - 1s 100us/step - loss: 0.4055 - acc: 0.8339\n",
            "Epoch 16/50\n",
            "8000/8000 [==============================] - 1s 97us/step - loss: 0.4054 - acc: 0.8355\n",
            "Epoch 17/50\n",
            "8000/8000 [==============================] - 1s 100us/step - loss: 0.4051 - acc: 0.8339\n",
            "Epoch 18/50\n",
            "8000/8000 [==============================] - 1s 97us/step - loss: 0.4049 - acc: 0.8342\n",
            "Epoch 19/50\n",
            "8000/8000 [==============================] - 1s 97us/step - loss: 0.4040 - acc: 0.8354\n",
            "Epoch 20/50\n",
            "8000/8000 [==============================] - 1s 95us/step - loss: 0.4041 - acc: 0.8357\n",
            "Epoch 21/50\n",
            "8000/8000 [==============================] - 1s 94us/step - loss: 0.4040 - acc: 0.8357\n",
            "Epoch 22/50\n",
            "8000/8000 [==============================] - 1s 97us/step - loss: 0.4035 - acc: 0.8361\n",
            "Epoch 23/50\n",
            "8000/8000 [==============================] - 1s 93us/step - loss: 0.4035 - acc: 0.8337\n",
            "Epoch 24/50\n",
            "8000/8000 [==============================] - 1s 97us/step - loss: 0.4030 - acc: 0.8364\n",
            "Epoch 25/50\n",
            "8000/8000 [==============================] - 1s 96us/step - loss: 0.4036 - acc: 0.8350\n",
            "Epoch 26/50\n",
            "8000/8000 [==============================] - 1s 98us/step - loss: 0.4025 - acc: 0.8341\n",
            "Epoch 27/50\n",
            "8000/8000 [==============================] - 1s 96us/step - loss: 0.4030 - acc: 0.8340\n",
            "Epoch 28/50\n",
            "8000/8000 [==============================] - 1s 98us/step - loss: 0.4026 - acc: 0.8355\n",
            "Epoch 29/50\n",
            "8000/8000 [==============================] - 1s 94us/step - loss: 0.4020 - acc: 0.8350\n",
            "Epoch 30/50\n",
            "8000/8000 [==============================] - 1s 98us/step - loss: 0.4025 - acc: 0.8354\n",
            "Epoch 31/50\n",
            "8000/8000 [==============================] - 1s 96us/step - loss: 0.4018 - acc: 0.8351\n",
            "Epoch 32/50\n",
            "8000/8000 [==============================] - 1s 98us/step - loss: 0.4021 - acc: 0.8347\n",
            "Epoch 33/50\n",
            "8000/8000 [==============================] - 1s 97us/step - loss: 0.4025 - acc: 0.8351\n",
            "Epoch 34/50\n",
            "8000/8000 [==============================] - 1s 95us/step - loss: 0.4019 - acc: 0.8354\n",
            "Epoch 35/50\n",
            "8000/8000 [==============================] - 1s 97us/step - loss: 0.4016 - acc: 0.8361\n",
            "Epoch 36/50\n",
            "8000/8000 [==============================] - 1s 94us/step - loss: 0.4014 - acc: 0.8354\n",
            "Epoch 37/50\n",
            "8000/8000 [==============================] - 1s 97us/step - loss: 0.4016 - acc: 0.8330\n",
            "Epoch 38/50\n",
            "8000/8000 [==============================] - 1s 95us/step - loss: 0.4013 - acc: 0.8349\n",
            "Epoch 39/50\n",
            "8000/8000 [==============================] - 1s 97us/step - loss: 0.4014 - acc: 0.8337\n",
            "Epoch 40/50\n",
            "8000/8000 [==============================] - 1s 95us/step - loss: 0.4024 - acc: 0.8345\n",
            "Epoch 41/50\n",
            "8000/8000 [==============================] - 1s 97us/step - loss: 0.4019 - acc: 0.8345\n",
            "Epoch 42/50\n",
            "8000/8000 [==============================] - 1s 96us/step - loss: 0.4021 - acc: 0.8342\n",
            "Epoch 43/50\n",
            "8000/8000 [==============================] - 1s 96us/step - loss: 0.4010 - acc: 0.8361\n",
            "Epoch 44/50\n",
            "8000/8000 [==============================] - 1s 96us/step - loss: 0.4014 - acc: 0.8359\n",
            "Epoch 45/50\n",
            "8000/8000 [==============================] - 1s 94us/step - loss: 0.4013 - acc: 0.8344\n",
            "Epoch 46/50\n",
            "8000/8000 [==============================] - 1s 101us/step - loss: 0.4010 - acc: 0.8339\n",
            "Epoch 47/50\n",
            "8000/8000 [==============================] - 1s 95us/step - loss: 0.4009 - acc: 0.8342\n",
            "Epoch 48/50\n",
            "8000/8000 [==============================] - 1s 95us/step - loss: 0.4011 - acc: 0.8350\n",
            "Epoch 49/50\n",
            "8000/8000 [==============================] - 1s 97us/step - loss: 0.4008 - acc: 0.8354\n",
            "Epoch 50/50\n",
            "8000/8000 [==============================] - 1s 96us/step - loss: 0.4008 - acc: 0.8352\n"
          ],
          "name": "stdout"
        },
        {
          "output_type": "execute_result",
          "data": {
            "text/plain": [
              "<keras.callbacks.History at 0x7ff5598e9ba8>"
            ]
          },
          "metadata": {
            "tags": []
          },
          "execution_count": 27
        }
      ]
    },
    {
      "metadata": {
        "id": "prFxn-MTftMg",
        "colab_type": "code",
        "colab": {}
      },
      "cell_type": "code",
      "source": [
        "y_pred = classifier.predict(x_test)\n",
        "y_pred = (y_pred > 0.5)\n",
        "\n",
        "from sklearn.metrics import confusion_matrix\n",
        "cm = confusion_matrix(y_test, y_pred)\n"
      ],
      "execution_count": 0,
      "outputs": []
    },
    {
      "metadata": {
        "id": "BSfSDX8yicd9",
        "colab_type": "code",
        "colab": {}
      },
      "cell_type": "code",
      "source": [
        "# using machine to predict the future"
      ],
      "execution_count": 0,
      "outputs": []
    },
    {
      "metadata": {
        "id": "kidXj1s7kSyo",
        "colab_type": "code",
        "colab": {
          "base_uri": "https://localhost:8080/",
          "height": 54
        },
        "outputId": "76f71d7c-f5f4-4521-f6a2-45118af1a8ae"
      },
      "cell_type": "code",
      "source": [
        "\"\"\"Predict if the customer with the following informations will leave the bank:\n",
        "Geography: France\n",
        "Credit Score: 600\n",
        "Gender: Male\n",
        "Age: 40\n",
        "Tenure: 3\n",
        "Balance: 60000\n",
        "Number of Products: 2\n",
        "Has Credit Card: Yes\n",
        "Is Active Member: Yes\n",
        "Estimated Salary: 50000\"\"\"\n"
      ],
      "execution_count": 30,
      "outputs": [
        {
          "output_type": "execute_result",
          "data": {
            "text/plain": [
              "'Predict if the customer with the following informations will leave the bank:\\nGeography: France\\nCredit Score: 600\\nGender: Male\\nAge: 40\\nTenure: 3\\nBalance: 60000\\nNumber of Products: 2\\nHas Credit Card: Yes\\nIs Active Member: Yes\\nEstimated Salary: 50000'"
            ]
          },
          "metadata": {
            "tags": []
          },
          "execution_count": 30
        }
      ]
    },
    {
      "metadata": {
        "id": "Y9Wyv-qiikTU",
        "colab_type": "code",
        "outputId": "1384a06b-9fde-47d8-ec2a-892416dcd9c9",
        "colab": {
          "base_uri": "https://localhost:8080/",
          "height": 34
        }
      },
      "cell_type": "code",
      "source": [
        "new_prediction = classifier.predict(sc.transform(np.array([[0.0, 0, 600, 1, 40, 3, 60000, 2, 1, 1, 50000]])))\n",
        "\"\"\"new_prediction = (new_prediction > 0.5)\"\"\"\n",
        "print(new_prediction)"
      ],
      "execution_count": 31,
      "outputs": [
        {
          "output_type": "stream",
          "text": [
            "[[0.06473702]]\n"
          ],
          "name": "stdout"
        }
      ]
    },
    {
      "metadata": {
        "id": "2RNKtve6mYIm",
        "colab_type": "code",
        "colab": {}
      },
      "cell_type": "code",
      "source": [
        "from keras.wrappers.scikit_learn import KerasClassifier\n",
        "from sklearn.model_selection import cross_val_score\n",
        "def buil_classifier():\n",
        "  classifier = Sequential()\n",
        "  classifier.add(Dense(units = 6, kernel_initializer = 'uniform', activation = 'relu', input_dim = 11))\n",
        "  classifier.add(Dense(units = 6, kernel_initializer = 'uniform', activation = 'relu'))\n",
        "  classifier.add(Dense(units = 1, kernel_initializer = 'uniform', activation = 'sigmoid'))\n",
        "  classifier.compile(optimizer = 'adam', loss ='binary_crossentropy', metrics = ['accuracy'])\n",
        "  return classifier\n",
        "\n",
        "classifier = KerasClassifier(build_fn = buil_classifier, batch_size = 10, epochs = 100)\n",
        "accuracies = cross_val_score(estimator = classifier, X = x_train, y = y_train, cv = 10, n_jobs = -1)\n",
        "print(classifier)\n",
        "\n",
        "  "
      ],
      "execution_count": 0,
      "outputs": []
    }
  ]
}