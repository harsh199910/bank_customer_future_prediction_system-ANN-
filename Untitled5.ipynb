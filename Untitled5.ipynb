{
  "nbformat": 4,
  "nbformat_minor": 0,
  "metadata": {
    "colab": {
      "name": "Untitled5.ipynb",
      "version": "0.3.2",
      "provenance": [],
      "include_colab_link": true
    },
    "kernelspec": {
      "name": "python3",
      "display_name": "Python 3"
    },
    "accelerator": "TPU"
  },
  "cells": [
    {
      "cell_type": "markdown",
      "metadata": {
        "id": "view-in-github",
        "colab_type": "text"
      },
      "source": [
        "<a href=\"https://colab.research.google.com/github/harsh199910/own_project/blob/master/Untitled5.ipynb\" target=\"_parent\"><img src=\"https://colab.research.google.com/assets/colab-badge.svg\" alt=\"Open In Colab\"/></a>"
      ]
    },
    {
      "metadata": {
        "id": "n5iByPQ_I8I8",
        "colab_type": "code",
        "colab": {}
      },
      "cell_type": "code",
      "source": [
        "import numpy as np\n",
        "import matplotlib.pyplot as plt\n",
        "import pandas as pd"
      ],
      "execution_count": 0,
      "outputs": []
    },
    {
      "metadata": {
        "id": "EMk-KOAtJN60",
        "colab_type": "code",
        "outputId": "f8d57f34-5e8f-4110-bcb8-d4f9b0120ea8",
        "colab": {
          "base_uri": "https://localhost:8080/",
          "height": 195
        }
      },
      "cell_type": "code",
      "source": [
        "\n",
        "bank_dataset = pd.read_csv(\"bank.csv\")\n",
        "bank_dataset.head()"
      ],
      "execution_count": 7,
      "outputs": [
        {
          "output_type": "execute_result",
          "data": {
            "text/html": [
              "<div>\n",
              "<style scoped>\n",
              "    .dataframe tbody tr th:only-of-type {\n",
              "        vertical-align: middle;\n",
              "    }\n",
              "\n",
              "    .dataframe tbody tr th {\n",
              "        vertical-align: top;\n",
              "    }\n",
              "\n",
              "    .dataframe thead th {\n",
              "        text-align: right;\n",
              "    }\n",
              "</style>\n",
              "<table border=\"1\" class=\"dataframe\">\n",
              "  <thead>\n",
              "    <tr style=\"text-align: right;\">\n",
              "      <th></th>\n",
              "      <th>RowNumber</th>\n",
              "      <th>CustomerId</th>\n",
              "      <th>Surname</th>\n",
              "      <th>CreditScore</th>\n",
              "      <th>Geography</th>\n",
              "      <th>Gender</th>\n",
              "      <th>Age</th>\n",
              "      <th>Tenure</th>\n",
              "      <th>Balance</th>\n",
              "      <th>NumOfProducts</th>\n",
              "      <th>HasCrCard</th>\n",
              "      <th>IsActiveMember</th>\n",
              "      <th>EstimatedSalary</th>\n",
              "      <th>Exited</th>\n",
              "    </tr>\n",
              "  </thead>\n",
              "  <tbody>\n",
              "    <tr>\n",
              "      <th>0</th>\n",
              "      <td>1</td>\n",
              "      <td>15634602</td>\n",
              "      <td>Hargrave</td>\n",
              "      <td>619</td>\n",
              "      <td>France</td>\n",
              "      <td>Female</td>\n",
              "      <td>42</td>\n",
              "      <td>2</td>\n",
              "      <td>0.00</td>\n",
              "      <td>1</td>\n",
              "      <td>1</td>\n",
              "      <td>1</td>\n",
              "      <td>101348.88</td>\n",
              "      <td>1</td>\n",
              "    </tr>\n",
              "    <tr>\n",
              "      <th>1</th>\n",
              "      <td>2</td>\n",
              "      <td>15647311</td>\n",
              "      <td>Hill</td>\n",
              "      <td>608</td>\n",
              "      <td>Spain</td>\n",
              "      <td>Female</td>\n",
              "      <td>41</td>\n",
              "      <td>1</td>\n",
              "      <td>83807.86</td>\n",
              "      <td>1</td>\n",
              "      <td>0</td>\n",
              "      <td>1</td>\n",
              "      <td>112542.58</td>\n",
              "      <td>0</td>\n",
              "    </tr>\n",
              "    <tr>\n",
              "      <th>2</th>\n",
              "      <td>3</td>\n",
              "      <td>15619304</td>\n",
              "      <td>Onio</td>\n",
              "      <td>502</td>\n",
              "      <td>France</td>\n",
              "      <td>Female</td>\n",
              "      <td>42</td>\n",
              "      <td>8</td>\n",
              "      <td>159660.80</td>\n",
              "      <td>3</td>\n",
              "      <td>1</td>\n",
              "      <td>0</td>\n",
              "      <td>113931.57</td>\n",
              "      <td>1</td>\n",
              "    </tr>\n",
              "    <tr>\n",
              "      <th>3</th>\n",
              "      <td>4</td>\n",
              "      <td>15701354</td>\n",
              "      <td>Boni</td>\n",
              "      <td>699</td>\n",
              "      <td>France</td>\n",
              "      <td>Female</td>\n",
              "      <td>39</td>\n",
              "      <td>1</td>\n",
              "      <td>0.00</td>\n",
              "      <td>2</td>\n",
              "      <td>0</td>\n",
              "      <td>0</td>\n",
              "      <td>93826.63</td>\n",
              "      <td>0</td>\n",
              "    </tr>\n",
              "    <tr>\n",
              "      <th>4</th>\n",
              "      <td>5</td>\n",
              "      <td>15737888</td>\n",
              "      <td>Mitchell</td>\n",
              "      <td>850</td>\n",
              "      <td>Spain</td>\n",
              "      <td>Female</td>\n",
              "      <td>43</td>\n",
              "      <td>2</td>\n",
              "      <td>125510.82</td>\n",
              "      <td>1</td>\n",
              "      <td>1</td>\n",
              "      <td>1</td>\n",
              "      <td>79084.10</td>\n",
              "      <td>0</td>\n",
              "    </tr>\n",
              "  </tbody>\n",
              "</table>\n",
              "</div>"
            ],
            "text/plain": [
              "   RowNumber  CustomerId   Surname  CreditScore Geography  Gender  Age  \\\n",
              "0          1    15634602  Hargrave          619    France  Female   42   \n",
              "1          2    15647311      Hill          608     Spain  Female   41   \n",
              "2          3    15619304      Onio          502    France  Female   42   \n",
              "3          4    15701354      Boni          699    France  Female   39   \n",
              "4          5    15737888  Mitchell          850     Spain  Female   43   \n",
              "\n",
              "   Tenure    Balance  NumOfProducts  HasCrCard  IsActiveMember  \\\n",
              "0       2       0.00              1          1               1   \n",
              "1       1   83807.86              1          0               1   \n",
              "2       8  159660.80              3          1               0   \n",
              "3       1       0.00              2          0               0   \n",
              "4       2  125510.82              1          1               1   \n",
              "\n",
              "   EstimatedSalary  Exited  \n",
              "0        101348.88       1  \n",
              "1        112542.58       0  \n",
              "2        113931.57       1  \n",
              "3         93826.63       0  \n",
              "4         79084.10       0  "
            ]
          },
          "metadata": {
            "tags": []
          },
          "execution_count": 7
        }
      ]
    },
    {
      "metadata": {
        "id": "vKVELGca__il",
        "colab_type": "code",
        "colab": {}
      },
      "cell_type": "code",
      "source": [
        "x=bank_dataset.iloc[:, 3:13].values\n",
        "y=bank_dataset.iloc[:, 13].values\n"
      ],
      "execution_count": 0,
      "outputs": []
    },
    {
      "metadata": {
        "id": "jHgVLeO1Eru7",
        "colab_type": "code",
        "colab": {
          "base_uri": "https://localhost:8080/",
          "height": 142
        },
        "outputId": "1f2aad32-fb01-4f22-e03c-cb45a3863d41"
      },
      "cell_type": "code",
      "source": [
        "from sklearn.preprocessing import LabelEncoder, OneHotEncoder\n",
        "labelencoder_x_1 = LabelEncoder()\n",
        "x[:, 1] = labelencoder_x_1.fit_transform(x[:, 1])\n",
        "labelencoder_x_2 = LabelEncoder()\n",
        "x[:, 2] = labelencoder_x_2.fit_transform(x[:, 2])\n",
        "onehotencoder = OneHotEncoder(categorical_features = [1])\n",
        "x = onehotencoder.fit_transform(x).toarray()\n",
        "x = x[:, 1:]\n"
      ],
      "execution_count": 9,
      "outputs": [
        {
          "output_type": "stream",
          "text": [
            "/usr/local/lib/python3.6/dist-packages/sklearn/preprocessing/_encoders.py:368: FutureWarning: The handling of integer data will change in version 0.22. Currently, the categories are determined based on the range [0, max(values)], while in the future they will be determined based on the unique values.\n",
            "If you want the future behaviour and silence this warning, you can specify \"categories='auto'\".\n",
            "In case you used a LabelEncoder before this OneHotEncoder to convert the categories to integers, then you can now use the OneHotEncoder directly.\n",
            "  warnings.warn(msg, FutureWarning)\n",
            "/usr/local/lib/python3.6/dist-packages/sklearn/preprocessing/_encoders.py:390: DeprecationWarning: The 'categorical_features' keyword is deprecated in version 0.20 and will be removed in 0.22. You can use the ColumnTransformer instead.\n",
            "  \"use the ColumnTransformer instead.\", DeprecationWarning)\n"
          ],
          "name": "stderr"
        }
      ]
    },
    {
      "metadata": {
        "id": "MAkvQYpfIRhK",
        "colab_type": "code",
        "colab": {}
      },
      "cell_type": "code",
      "source": [
        "from sklearn.model_selection import train_test_split\n",
        "x_train, x_test, y_train, y_test = train_test_split(x, y, test_size=0.2, random_state=0)\n",
        "\n",
        "from sklearn.preprocessing import StandardScaler\n",
        "sc = StandardScaler()\n",
        "x_train = sc.fit_transform(x_train)\n",
        "x_test = sc.fit_transform(x_test)\n"
      ],
      "execution_count": 0,
      "outputs": []
    },
    {
      "metadata": {
        "id": "B3oaonqMLhRh",
        "colab_type": "code",
        "colab": {
          "base_uri": "https://localhost:8080/",
          "height": 34
        },
        "outputId": "b5392423-8644-45a4-ba64-f0dc4b9b694b"
      },
      "cell_type": "code",
      "source": [
        "import keras\n",
        "from keras.models import Sequential\n",
        "from keras.layers import Dense"
      ],
      "execution_count": 11,
      "outputs": [
        {
          "output_type": "stream",
          "text": [
            "Using TensorFlow backend.\n"
          ],
          "name": "stderr"
        }
      ]
    },
    {
      "metadata": {
        "id": "Sc1L-2cMKLOw",
        "colab_type": "code",
        "colab": {}
      },
      "cell_type": "code",
      "source": [
        "classifier = Sequential()\n",
        "classifier.add(Dense(units = 6, kernel_initializer = 'uniform', activation = 'relu', input_dim = 11))"
      ],
      "execution_count": 0,
      "outputs": []
    },
    {
      "metadata": {
        "id": "_ZQH9xlPMKY6",
        "colab_type": "code",
        "colab": {}
      },
      "cell_type": "code",
      "source": [
        "classifier.add(Dense(units = 6, kernel_initializer = 'uniform', activation = 'relu'))"
      ],
      "execution_count": 0,
      "outputs": []
    },
    {
      "metadata": {
        "id": "XYV_9K64MXRo",
        "colab_type": "code",
        "colab": {}
      },
      "cell_type": "code",
      "source": [
        "classifier.add(Dense(units = 1, kernel_initializer = 'uniform', activation = 'sigmoid'))"
      ],
      "execution_count": 0,
      "outputs": []
    },
    {
      "metadata": {
        "id": "j3yZDKCKM1Dl",
        "colab_type": "code",
        "colab": {}
      },
      "cell_type": "code",
      "source": [
        "classifier.compile(optimizer = 'adam', loss ='binary_crossentropy', metrics = ['accuracy'])"
      ],
      "execution_count": 0,
      "outputs": []
    },
    {
      "metadata": {
        "id": "mwYbYbfoNnt1",
        "colab_type": "code",
        "colab": {
          "base_uri": "https://localhost:8080/",
          "height": 3554
        },
        "outputId": "58a852bb-d82e-42d1-8d2d-e693f8b7a00a"
      },
      "cell_type": "code",
      "source": [
        "classifier.fit(x_train, y_train, batch_size = 10, epochs = 100)"
      ],
      "execution_count": 16,
      "outputs": [
        {
          "output_type": "stream",
          "text": [
            "Epoch 1/100\n",
            "8000/8000 [==============================] - 1s 164us/step - loss: 0.4794 - acc: 0.7960\n",
            "Epoch 2/100\n",
            "8000/8000 [==============================] - 1s 93us/step - loss: 0.4271 - acc: 0.7960\n",
            "Epoch 3/100\n",
            "8000/8000 [==============================] - 1s 94us/step - loss: 0.4215 - acc: 0.8002\n",
            "Epoch 4/100\n",
            "8000/8000 [==============================] - 1s 95us/step - loss: 0.4174 - acc: 0.8232\n",
            "Epoch 5/100\n",
            "8000/8000 [==============================] - 1s 94us/step - loss: 0.4155 - acc: 0.8299\n",
            "Epoch 6/100\n",
            "8000/8000 [==============================] - 1s 91us/step - loss: 0.4136 - acc: 0.8296\n",
            "Epoch 7/100\n",
            "8000/8000 [==============================] - 1s 92us/step - loss: 0.4123 - acc: 0.8320\n",
            "Epoch 8/100\n",
            "8000/8000 [==============================] - 1s 94us/step - loss: 0.4111 - acc: 0.8314\n",
            "Epoch 9/100\n",
            "8000/8000 [==============================] - 1s 94us/step - loss: 0.4100 - acc: 0.8341\n",
            "Epoch 10/100\n",
            "8000/8000 [==============================] - 1s 93us/step - loss: 0.4090 - acc: 0.8337\n",
            "Epoch 11/100\n",
            "8000/8000 [==============================] - 1s 92us/step - loss: 0.4084 - acc: 0.8362\n",
            "Epoch 12/100\n",
            "8000/8000 [==============================] - 1s 93us/step - loss: 0.4080 - acc: 0.8326\n",
            "Epoch 13/100\n",
            "8000/8000 [==============================] - 1s 92us/step - loss: 0.4071 - acc: 0.8341\n",
            "Epoch 14/100\n",
            "8000/8000 [==============================] - 1s 93us/step - loss: 0.4067 - acc: 0.8340\n",
            "Epoch 15/100\n",
            "8000/8000 [==============================] - 1s 92us/step - loss: 0.4060 - acc: 0.8339\n",
            "Epoch 16/100\n",
            "8000/8000 [==============================] - 1s 92us/step - loss: 0.4060 - acc: 0.8345\n",
            "Epoch 17/100\n",
            "8000/8000 [==============================] - 1s 94us/step - loss: 0.4056 - acc: 0.8344\n",
            "Epoch 18/100\n",
            "8000/8000 [==============================] - 1s 95us/step - loss: 0.4053 - acc: 0.8324\n",
            "Epoch 19/100\n",
            "8000/8000 [==============================] - 1s 94us/step - loss: 0.4048 - acc: 0.8342\n",
            "Epoch 20/100\n",
            "8000/8000 [==============================] - 1s 92us/step - loss: 0.4043 - acc: 0.8339\n",
            "Epoch 21/100\n",
            "8000/8000 [==============================] - 1s 92us/step - loss: 0.4044 - acc: 0.8340\n",
            "Epoch 22/100\n",
            "8000/8000 [==============================] - 1s 95us/step - loss: 0.4040 - acc: 0.8340\n",
            "Epoch 23/100\n",
            "8000/8000 [==============================] - 1s 92us/step - loss: 0.4034 - acc: 0.8347\n",
            "Epoch 24/100\n",
            "8000/8000 [==============================] - 1s 91us/step - loss: 0.4037 - acc: 0.8359\n",
            "Epoch 25/100\n",
            "8000/8000 [==============================] - 1s 91us/step - loss: 0.4034 - acc: 0.8339\n",
            "Epoch 26/100\n",
            "8000/8000 [==============================] - 1s 92us/step - loss: 0.4036 - acc: 0.8337\n",
            "Epoch 27/100\n",
            "8000/8000 [==============================] - 1s 92us/step - loss: 0.4027 - acc: 0.8340\n",
            "Epoch 28/100\n",
            "8000/8000 [==============================] - 1s 94us/step - loss: 0.4031 - acc: 0.8330\n",
            "Epoch 29/100\n",
            "8000/8000 [==============================] - 1s 93us/step - loss: 0.4030 - acc: 0.8339\n",
            "Epoch 30/100\n",
            "8000/8000 [==============================] - 1s 92us/step - loss: 0.4030 - acc: 0.8336\n",
            "Epoch 31/100\n",
            "8000/8000 [==============================] - 1s 90us/step - loss: 0.4027 - acc: 0.8329\n",
            "Epoch 32/100\n",
            "8000/8000 [==============================] - 1s 91us/step - loss: 0.4023 - acc: 0.8335\n",
            "Epoch 33/100\n",
            "8000/8000 [==============================] - 1s 92us/step - loss: 0.4025 - acc: 0.8340\n",
            "Epoch 34/100\n",
            "8000/8000 [==============================] - 1s 91us/step - loss: 0.4026 - acc: 0.8332\n",
            "Epoch 35/100\n",
            "8000/8000 [==============================] - 1s 92us/step - loss: 0.4023 - acc: 0.8346\n",
            "Epoch 36/100\n",
            "8000/8000 [==============================] - 1s 92us/step - loss: 0.4028 - acc: 0.8355\n",
            "Epoch 37/100\n",
            "8000/8000 [==============================] - 1s 92us/step - loss: 0.4017 - acc: 0.8345\n",
            "Epoch 38/100\n",
            "8000/8000 [==============================] - 1s 93us/step - loss: 0.4020 - acc: 0.8351\n",
            "Epoch 39/100\n",
            "8000/8000 [==============================] - 1s 91us/step - loss: 0.4016 - acc: 0.8327\n",
            "Epoch 40/100\n",
            "8000/8000 [==============================] - 1s 91us/step - loss: 0.4020 - acc: 0.8341\n",
            "Epoch 41/100\n",
            "8000/8000 [==============================] - 1s 91us/step - loss: 0.4017 - acc: 0.8339\n",
            "Epoch 42/100\n",
            "8000/8000 [==============================] - 1s 93us/step - loss: 0.4018 - acc: 0.8351\n",
            "Epoch 43/100\n",
            "8000/8000 [==============================] - 1s 92us/step - loss: 0.4019 - acc: 0.8347\n",
            "Epoch 44/100\n",
            "8000/8000 [==============================] - 1s 92us/step - loss: 0.4016 - acc: 0.8329\n",
            "Epoch 45/100\n",
            "8000/8000 [==============================] - 1s 92us/step - loss: 0.4013 - acc: 0.8342\n",
            "Epoch 46/100\n",
            "8000/8000 [==============================] - 1s 92us/step - loss: 0.4015 - acc: 0.8350\n",
            "Epoch 47/100\n",
            "8000/8000 [==============================] - 1s 91us/step - loss: 0.4012 - acc: 0.8351\n",
            "Epoch 48/100\n",
            "8000/8000 [==============================] - 1s 91us/step - loss: 0.4012 - acc: 0.8346\n",
            "Epoch 49/100\n",
            "8000/8000 [==============================] - 1s 91us/step - loss: 0.4016 - acc: 0.8344\n",
            "Epoch 50/100\n",
            "8000/8000 [==============================] - 1s 91us/step - loss: 0.4014 - acc: 0.8344\n",
            "Epoch 51/100\n",
            "8000/8000 [==============================] - 1s 91us/step - loss: 0.4018 - acc: 0.8352\n",
            "Epoch 52/100\n",
            "8000/8000 [==============================] - 1s 91us/step - loss: 0.4016 - acc: 0.8335\n",
            "Epoch 53/100\n",
            "8000/8000 [==============================] - 1s 92us/step - loss: 0.4008 - acc: 0.8362\n",
            "Epoch 54/100\n",
            "8000/8000 [==============================] - 1s 93us/step - loss: 0.4015 - acc: 0.8351\n",
            "Epoch 55/100\n",
            "8000/8000 [==============================] - 1s 92us/step - loss: 0.4013 - acc: 0.8337\n",
            "Epoch 56/100\n",
            "8000/8000 [==============================] - 1s 93us/step - loss: 0.4010 - acc: 0.8352\n",
            "Epoch 57/100\n",
            "8000/8000 [==============================] - 1s 92us/step - loss: 0.4010 - acc: 0.8342\n",
            "Epoch 58/100\n",
            "8000/8000 [==============================] - 1s 92us/step - loss: 0.4010 - acc: 0.8339\n",
            "Epoch 59/100\n",
            "8000/8000 [==============================] - 1s 92us/step - loss: 0.4012 - acc: 0.8352\n",
            "Epoch 60/100\n",
            "8000/8000 [==============================] - 1s 92us/step - loss: 0.4009 - acc: 0.8351\n",
            "Epoch 61/100\n",
            "8000/8000 [==============================] - 1s 92us/step - loss: 0.4013 - acc: 0.8342\n",
            "Epoch 62/100\n",
            "8000/8000 [==============================] - 1s 92us/step - loss: 0.4008 - acc: 0.8341\n",
            "Epoch 63/100\n",
            "8000/8000 [==============================] - 1s 92us/step - loss: 0.4010 - acc: 0.8345\n",
            "Epoch 64/100\n",
            "8000/8000 [==============================] - 1s 92us/step - loss: 0.4011 - acc: 0.8347\n",
            "Epoch 65/100\n",
            "8000/8000 [==============================] - 1s 92us/step - loss: 0.4009 - acc: 0.8346\n",
            "Epoch 66/100\n",
            "8000/8000 [==============================] - 1s 93us/step - loss: 0.4005 - acc: 0.8352\n",
            "Epoch 67/100\n",
            "8000/8000 [==============================] - 1s 93us/step - loss: 0.4007 - acc: 0.8341\n",
            "Epoch 68/100\n",
            "8000/8000 [==============================] - 1s 92us/step - loss: 0.4009 - acc: 0.8331\n",
            "Epoch 69/100\n",
            "8000/8000 [==============================] - 1s 96us/step - loss: 0.4008 - acc: 0.8352\n",
            "Epoch 70/100\n",
            "8000/8000 [==============================] - 1s 94us/step - loss: 0.4005 - acc: 0.8364\n",
            "Epoch 71/100\n",
            "8000/8000 [==============================] - 1s 92us/step - loss: 0.4007 - acc: 0.8352\n",
            "Epoch 72/100\n",
            "8000/8000 [==============================] - 1s 94us/step - loss: 0.4009 - acc: 0.8331\n",
            "Epoch 73/100\n",
            "8000/8000 [==============================] - 1s 93us/step - loss: 0.4007 - acc: 0.8329\n",
            "Epoch 74/100\n",
            "8000/8000 [==============================] - 1s 92us/step - loss: 0.4007 - acc: 0.8355\n",
            "Epoch 75/100\n",
            "8000/8000 [==============================] - 1s 91us/step - loss: 0.4004 - acc: 0.8342\n",
            "Epoch 76/100\n",
            "8000/8000 [==============================] - 1s 90us/step - loss: 0.4005 - acc: 0.8356\n",
            "Epoch 77/100\n",
            "8000/8000 [==============================] - 1s 93us/step - loss: 0.4006 - acc: 0.8335\n",
            "Epoch 78/100\n",
            "8000/8000 [==============================] - 1s 92us/step - loss: 0.4006 - acc: 0.8340\n",
            "Epoch 79/100\n",
            "8000/8000 [==============================] - 1s 92us/step - loss: 0.4001 - acc: 0.8335\n",
            "Epoch 80/100\n",
            "8000/8000 [==============================] - 1s 90us/step - loss: 0.4006 - acc: 0.8362\n",
            "Epoch 81/100\n",
            "8000/8000 [==============================] - 1s 90us/step - loss: 0.4006 - acc: 0.8347\n",
            "Epoch 82/100\n",
            "8000/8000 [==============================] - 1s 90us/step - loss: 0.4005 - acc: 0.8327\n",
            "Epoch 83/100\n",
            "8000/8000 [==============================] - 1s 92us/step - loss: 0.4009 - acc: 0.8340\n",
            "Epoch 84/100\n",
            "8000/8000 [==============================] - 1s 93us/step - loss: 0.4007 - acc: 0.8342\n",
            "Epoch 85/100\n",
            "8000/8000 [==============================] - 1s 93us/step - loss: 0.4003 - acc: 0.8350\n",
            "Epoch 86/100\n",
            "8000/8000 [==============================] - 1s 92us/step - loss: 0.4007 - acc: 0.8346\n",
            "Epoch 87/100\n",
            "8000/8000 [==============================] - 1s 91us/step - loss: 0.4004 - acc: 0.8340\n",
            "Epoch 88/100\n",
            "8000/8000 [==============================] - 1s 90us/step - loss: 0.4003 - acc: 0.8355\n",
            "Epoch 89/100\n",
            "8000/8000 [==============================] - 1s 91us/step - loss: 0.4005 - acc: 0.8341\n",
            "Epoch 90/100\n",
            "8000/8000 [==============================] - 1s 90us/step - loss: 0.4005 - acc: 0.8347\n",
            "Epoch 91/100\n",
            "8000/8000 [==============================] - 1s 92us/step - loss: 0.4006 - acc: 0.8325\n",
            "Epoch 92/100\n",
            "8000/8000 [==============================] - 1s 92us/step - loss: 0.4005 - acc: 0.8336\n",
            "Epoch 93/100\n",
            "8000/8000 [==============================] - 1s 91us/step - loss: 0.4001 - acc: 0.8342\n",
            "Epoch 94/100\n",
            "8000/8000 [==============================] - 1s 93us/step - loss: 0.4005 - acc: 0.8339\n",
            "Epoch 95/100\n",
            "8000/8000 [==============================] - 1s 91us/step - loss: 0.4004 - acc: 0.8340\n",
            "Epoch 96/100\n",
            "8000/8000 [==============================] - 1s 92us/step - loss: 0.4003 - acc: 0.8336\n",
            "Epoch 97/100\n",
            "8000/8000 [==============================] - 1s 90us/step - loss: 0.4005 - acc: 0.8359\n",
            "Epoch 98/100\n",
            "8000/8000 [==============================] - 1s 90us/step - loss: 0.4002 - acc: 0.8340\n",
            "Epoch 99/100\n",
            "8000/8000 [==============================] - 1s 91us/step - loss: 0.4000 - acc: 0.8335\n",
            "Epoch 100/100\n",
            "8000/8000 [==============================] - 1s 90us/step - loss: 0.4008 - acc: 0.8331\n"
          ],
          "name": "stdout"
        },
        {
          "output_type": "execute_result",
          "data": {
            "text/plain": [
              "<keras.callbacks.History at 0x7f86f608a470>"
            ]
          },
          "metadata": {
            "tags": []
          },
          "execution_count": 16
        }
      ]
    }
  ]
}